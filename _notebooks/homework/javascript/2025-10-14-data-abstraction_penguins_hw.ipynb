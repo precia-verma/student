{
 "cells": [
  {
   "cell_type": "code",
   "execution_count": null,
   "id": "4dac99d3",
   "metadata": {},
   "outputs": [],
   "source": [
    "---\n",
    "layout: post\n",
    "title: Penguins - Data Abstraction Homework\n",
    "permalink: /penguins-hw\n",
    "description: Penguins group data abstraction lesson homework\n",
    "category: [JavaScript]\n",
    "author: Jonah Larsson, Aarush Bandi, Sri Rohit Varma Datla\n",
    "---"
   ]
  },
  {
   "cell_type": "markdown",
   "id": "281a3d40",
   "metadata": {},
   "source": [
    "# Penguins JS Lessons\n",
    "\n",
    "<a href=\"https://github.com/Open-Coding-Society/pages/blob/main/_notebooks/CSSE/JavaScriptLessons/Data_Abstractions/2025-10-06-data-abstraction_penguins_hw.ipynb\" download><b>Download Homework</b></a> <br/>\n",
    "<a href=\"https://docs.google.com/forms/d/e/1FAIpQLSfwgZR0QYAg_uYuZ7XqqEm-xlU0-gZFE2dtgnKEe5kH7Yp0Vg/viewform?usp=sharing&ouid=105179298243342263196\"><b>Submission Google Form for Homework</b></a>\n",
    "\n",
    "## **Data Abstraction Homework**\n",
    "In order to learn this subject of programming well, you have to practice:\n",
    "\n",
    "> Popcorn hack 1: Data Abstraction with functions\n",
    "\n",
    "> Popcorn hack 2: Data abstraction with classes\n",
    "\n",
    "> Final Task: Building a player system using classes and functions\n",
    "\n",
    "---"
   ]
  },
  {
   "cell_type": "markdown",
   "id": "de7965c2",
   "metadata": {},
   "source": [
    "## <b>Popcorn Hack 1 (Progress Check)</b>\n",
    "\n",
    "Data abstraction with functions:\n",
    "\n",
    "**Part 1:** Edit the `Account()` function to print out the username and password to the console using console.log().\n",
    "\n",
    "**Part 2:** Edit the `ChangeUsername()` function to accept a `newUsername` parameter, then set the `username` variable to the `newUsername` parameter.\n",
    "\n",
    "**Part 3:** Edit the `ChangePassword()` function to accept a `newPassword` parameter, then set the `password` variable to the `newPassword` parameter.\n",
    "\n",
    "**Part 4:** Make the `Login()` function check if the parameters `_username` and `_password` are equal to the `username` and `password` variables, then print out if the login succeeded or failed using console.log()."
   ]
  },
  {
   "cell_type": "code",
   "execution_count": null,
   "id": "c298ce19",
   "metadata": {
    "vscode": {
     "languageId": "javascript"
    }
   },
   "outputs": [],
   "source": [
    "// put popcorn hack 1 code here:\n",
    "\n",
    "let username = \"Giuseppe\";\n",
    "let password = \"giuseppe_very_awesome_password\";\n",
    "\n",
    "// part 1\n",
    "function Account() {\n",
    "    console.log(\"Username: \" + username);\n",
    "    console.log(\"Password: \" + password);\n",
    "}\n",
    "\n",
    "// part 2\n",
    "function ChangeUsername(newUsername) {\n",
    "    username = newUsername;\n",
    "}\n",
    "\n",
    "// part 3\n",
    "function ChangePassword(newPassword) {\n",
    "    password = newPassword;\n",
    "}\n",
    "\n",
    "// part 4\n",
    "function Login(_username, _password) {\n",
    "    if (_username === username && _password === password) {\n",
    "        console.log(\"Login successful!\");\n",
    "        return true;\n",
    "    } else {\n",
    "        console.log(\"Login failed!\");\n",
    "        return false;\n",
    "    }\n",
    "}"
   ]
  },
  {
   "cell_type": "markdown",
   "id": "d6662313",
   "metadata": {},
   "source": [
    "---\n",
    "\n",
    "## <b>Popcorn Hack 2 (Progress Check)</b>\n",
    "\n",
    "Use the examples provided in the lesson if you're stuck.\n",
    "\n",
    "**Part 1:** Make a class named `House`\n",
    "\n",
    "**Part 2:** Make a constructor for the `House` class with the parameters cost, age, and size\n",
    "\n",
    "**Part 3:** Make an instance of the House class with the name myHouse and fill the parameters with any numbers you want.\n",
    "\n",
    "Write your code down here:"
   ]
  },
  {
   "cell_type": "code",
   "execution_count": null,
   "id": "63c4ff36",
   "metadata": {
    "vscode": {
     "languageId": "javascript"
    }
   },
   "outputs": [],
   "source": [
    "// popcorn hack 2 code goes here:\n",
    "\n",
    "// Part 1: Make a class named House\n",
    "class House {\n",
    "    // Part 2: Make a constructor with parameters cost, age, and size\n",
    "    constructor(cost, age, size) {\n",
    "        this.cost = cost;\n",
    "        this.age = age;\n",
    "        this.size = size;\n",
    "    }\n",
    "}\n",
    "\n",
    "// Part 3: Make an instance of the House class with the name myHouse\n",
    "const myHouse = new House(250000, 15, 2500);"
   ]
  },
  {
   "cell_type": "markdown",
   "id": "bcf83e66",
   "metadata": {},
   "source": [
    "---\n",
    "\n",
    "## <b>Final task</b>\n",
    "\n",
    "**Part 1:** Create 2 variables in the constructor like this: this.variableName = something. \n",
    "These variables will be called: `this.positionX`, `this.velocityX`.\n",
    "\n",
    "**Part 2:** Create 2 methods called `MoveLeft()` and `MoveRight()`, <br>\n",
    "inside MoveLeft() set 'this.velocityX' to -200. <br>\n",
    "inside MoveRight() set 'this.velocityX' to 200.\n",
    "\n",
    "**Part 3:** Create a function called `UpdatePosition()`. Inside this function, add 'this.velocityX' to 'this.positionX'\n",
    "\n",
    "**Part 4:** Call each method (MoveLeft(), MoveRight(), UpdatePosition() ), on the player object."
   ]
  },
  {
   "cell_type": "code",
   "execution_count": null,
   "id": "d252b920",
   "metadata": {
    "vscode": {
     "languageId": "javascript"
    }
   },
   "outputs": [],
   "source": [
    "// final task code goes here:\n",
    "\n",
    "class Player {\n",
    "\t// part 1\n",
    "\tconstructor() {\n",
    "\t\tthis.positionX = 0;\n",
    "\t\tthis.velocityX = 0;\n",
    "\t}\n",
    "\n",
    "\t// part 2\n",
    "\tMoveLeft() {\n",
    "\t\tthis.velocityX = -200;\n",
    "\t}\n",
    "\n",
    "\tMoveRight() {\n",
    "\t\tthis.velocityX = 200;\n",
    "\t}\n",
    "\n",
    "\t// part 3\n",
    "\tUpdatePosition() {\n",
    "\t\tthis.positionX += this.velocityX;\n",
    "\t}\n",
    "}\n",
    "\n",
    "// part 4\n",
    "let player = new Player();\n",
    "\n",
    "// call the functions on player here:\n",
    "player.MoveLeft();\n",
    "player.UpdatePosition();\n",
    "console.log(\"Position after moving left:\", player.positionX);\n",
    "\n",
    "player.MoveRight();\n",
    "player.UpdatePosition();\n",
    "console.log(\"Position after moving right:\", player.positionX);\n",
    "\n",
    "player.UpdatePosition();\n",
    "console.log(\"Final position:\", player.positionX);"
   ]
  },
  {
   "cell_type": "markdown",
   "id": "a7c86019",
   "metadata": {},
   "source": [
    "---\n",
    "\n",
    "<b>Grading</b>\n",
    "\n",
    "Popcorn Hack 1: Completion gives 0.2 points.<br/><br/>\n",
    "Popcorn Hack 2: Completion gives 0.3 points.<br/><br/>\n",
    "\n",
    "Final Task: Completion gives 0.5 points. Max of 0.02 extra points from extra work relevant to the subject or finishing assignment in a way that shows exceptional comprehension of the lesson.\n",
    "\n",
    "<br>\n",
    "<b><u>Make sure to submit your homework deployed link onto the global homework submission google sheet</u><b>\n",
    "\n",
    "<a href=\"https://docs.google.com/forms/d/e/1FAIpQLSfwgZR0QYAg_uYuZ7XqqEm-xlU0-gZFE2dtgnKEe5kH7Yp0Vg/viewform?usp=sharing&ouid=105179298243342263196\"><b>Submission Google Form for Homework</b></a>"
   ]
  }
 ],
 "metadata": {
  "language_info": {
   "name": "python"
  }
 },
 "nbformat": 4,
 "nbformat_minor": 5
}

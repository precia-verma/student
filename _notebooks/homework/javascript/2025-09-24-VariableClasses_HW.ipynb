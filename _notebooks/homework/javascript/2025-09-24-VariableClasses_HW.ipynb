{
 "cells": [
  {
   "cell_type": "code",
   "execution_count": null,
   "id": "165d134c",
   "metadata": {},
   "outputs": [],
   "source": [
    "---\n",
    "toc: True\n",
    "layout: post\n",
    "data: tools\n",
    "title: Varclasses\n",
    "description: Teaching Variables and Classes\n",
    "permalink: /tools/VarClass\n",
    "breadcrumb: True\n",
    "---"
   ]
  },
  {
   "cell_type": "markdown",
   "id": "2cd5514a",
   "metadata": {},
   "source": [
    "## Definition And Explanation\n",
    "\n",
    "In coding, classes and variables are two very important things in your coding journey. A class is very similar to a blueprint; it defines what an object should do and how it should do it. For example, if you were to create a class named \"Car\", that class isn't just a car. It can have details like the color of the car, what brand the car is, the top speed of the car, and many more ideas. \n",
    "\n",
    "On the other hand, we have variables. These are used to store information. These can be numbers, words, or even objects created from classes. You can think of variables as of a container that holds a piece of data. When you combine these two, they both make your code more organized and easier to understand. \n",
    "\n",
    "Now, although they sound similar, they are actually different. A variable is just a single container that holds one piece of data you want. A class, on the other hand, is much bigger, as I said before, it's just like a blueprint that can contain lots of variables and functions, but this time they are all grouped together. Instead of just holding one value like a variable, a class can describe a whole thing with multiple different variables. What this does is it makes your code a lot more organized, simple, convenient, and user-friendly."
   ]
  },
  {
   "cell_type": "markdown",
   "id": "984a6956",
   "metadata": {},
   "source": [
    "## Example of Variables from Snake Game\n",
    "\n",
    "Here's the entire code to look from:"
   ]
  },
  {
   "cell_type": "code",
   "execution_count": null,
   "id": "b5bb1a76",
   "metadata": {
    "vscode": {
     "languageId": "javascript"
    }
   },
   "outputs": [],
   "source": [
    "// Example: Only code related to variables and classes from the Snake game\n",
    "let score; // variable to keep track of the score\n",
    "score = 0; // initialize score\n",
    "let food = {x: 0, y: 0}; // object variable for food position\n",
    "food.x = Math.floor(Math.random() * ((canvas.width / BLOCK) - 1));\n",
    "food.y = Math.floor(Math.random() * ((canvas.height / BLOCK) - 1));\n",
    "// Example of a class (not in original Snake, but as an example)\n",
    "class Snake {\n",
    "    constructor() {\n",
    "        this.body = [{x: 0, y: 15}];   // starting position of snake\n",
    "        this.direction = 1;            // 1 = right\n",
    "        this.nextDirection = 1;        // planned next move\n",
    "    }\n",
    "}"
   ]
  },
  {
   "cell_type": "markdown",
   "id": "d641ae8b",
   "metadata": {},
   "source": [
    "### Simple Variable Example\n",
    "\n",
    "Let's look at a simple variable:"
   ]
  },
  {
   "cell_type": "code",
   "execution_count": null,
   "id": "e40d88e9",
   "metadata": {
    "vscode": {
     "languageId": "javascript"
    }
   },
   "outputs": [],
   "source": [
    "let score;"
   ]
  },
  {
   "cell_type": "markdown",
   "id": "e7425766",
   "metadata": {},
   "source": [
    "### Why is this a variable?\n",
    "\n",
    "- Let is used to declare a variable in JavaScript.\n",
    "- Score is the variable's name.\n",
    "- At first, it has no value. Later in the game, it gets updated. When you start a new game, the code sets it to 0"
   ]
  },
  {
   "cell_type": "code",
   "execution_count": null,
   "id": "72747fac",
   "metadata": {
    "vscode": {
     "languageId": "javascript"
    }
   },
   "outputs": [],
   "source": [
    "score = 0;"
   ]
  },
  {
   "cell_type": "markdown",
   "id": "2d61bf82",
   "metadata": {},
   "source": [
    "And every time the snake eats food, it increases:"
   ]
  },
  {
   "cell_type": "code",
   "execution_count": null,
   "id": "95936229",
   "metadata": {
    "vscode": {
     "languageId": "javascript"
    }
   },
   "outputs": [],
   "source": [
    "altScore(++score);"
   ]
  },
  {
   "cell_type": "markdown",
   "id": "ed02b506",
   "metadata": {},
   "source": [
    "The **score** is a variable that keeps track of the player's points while playing the game.\n",
    "\n",
    "## A More Complex Variable Example\n",
    "\n",
    "Let's start with the food variable:"
   ]
  },
  {
   "cell_type": "code",
   "execution_count": null,
   "id": "0caea03a",
   "metadata": {
    "vscode": {
     "languageId": "javascript"
    }
   },
   "outputs": [],
   "source": [
    "let food = {x: 0, y: 0};"
   ]
  },
  {
   "cell_type": "markdown",
   "id": "b1f54732",
   "metadata": {},
   "source": [
    "### Why is this a \"complex\" example?\n",
    "\n",
    "- Instead of just storing one thing (like a number), food is an object variable\n",
    "- It has two properties inside it:\n",
    "  - **x** - the horizontal position of the food on the game board\n",
    "  - **y** - the vertical position of the food on the game board\n",
    "\n",
    "### Random Food Spawns:"
   ]
  },
  {
   "cell_type": "code",
   "execution_count": null,
   "id": "86617ee3",
   "metadata": {
    "vscode": {
     "languageId": "javascript"
    }
   },
   "outputs": [],
   "source": [
    "food.x = Math.floor(Math.random() * ((canvas.width / BLOCK) - 1));\n",
    "food.y = Math.floor(Math.random() * ((canvas.height / BLOCK) - 1));"
   ]
  },
  {
   "cell_type": "markdown",
   "id": "13268f13",
   "metadata": {},
   "source": [
    "# Example Of Classes in Snake Game\n",
    "\n",
    "Classes aren't actually part of our Snake game, so we made a small example of how it would look:"
   ]
  },
  {
   "cell_type": "code",
   "execution_count": null,
   "id": "a853f591",
   "metadata": {
    "vscode": {
     "languageId": "javascript"
    }
   },
   "outputs": [],
   "source": [
    "class Snake {\n",
    "    constructor() {\n",
    "        this.body = [{x: 0, y: 15}];   // starting position of snake\n",
    "        this.direction = 1;            // 1 = right\n",
    "        this.nextDirection = 1;        // planned next move\n",
    "    }\n",
    "}"
   ]
  },
  {
   "cell_type": "markdown",
   "id": "65be5ff0",
   "metadata": {},
   "source": [
    "### Explanation (in simple words)\n",
    "\n",
    "- `class Snake { ... }` → This is the blueprint for the snake.\n",
    "- `constructor()` → This special function runs when you create a new snake (new Snake()).\n",
    "- `this.body` → Stores the snake's body (as an array of blocks). At the start, it's just one block at {x: 0, y: 15}.\n",
    "- `this.direction` → Keeps track of which way the snake is currently moving. (1 = right).\n",
    "- `this.nextDirection` → Stores the next direction the snake will move (helps with arrow key input)."
   ]
  },
  {
   "cell_type": "markdown",
   "id": "d4228a38",
   "metadata": {},
   "source": [
    "## POPCORN HACK 1: A short program about variables"
   ]
  },
  {
   "cell_type": "code",
   "execution_count": 7,
   "id": "d7a82d39",
   "metadata": {
    "vscode": {
     "languageId": "javascript"
    }
   },
   "outputs": [
    {
     "data": {
      "application/javascript": "\n// Step 1: Make some variables\nlet name = \"Sam\";\nlet age = 10;\n\n// Step 2: Print a message\nconsole.log(\"Hi, my name is\", name);\nconsole.log(\"I am\", age, \"years old.\");\n\n// Step 3: Finished part\n// TODO: Make a new variable called \"nextYearAge\"\n// that is the age plus 1\n\nlet nextYearAge = age + 1;   // <-- finished this line!\n\n// TODO: Print out the result\n// Example: \"Next year I will be 11 years old.\"\nconsole.log(\"Next year I will be\", nextYearAge, \"years old.\");   // <-- finished this line!\n",
      "text/plain": [
       "<IPython.core.display.Javascript object>"
      ]
     },
     "metadata": {},
     "output_type": "display_data"
    }
   ],
   "source": [
    "%%javascript\n",
    "\n",
    "// Step 1: Make some variables\n",
    "let name = \"Sam\";\n",
    "let age = 10;\n",
    "\n",
    "// Step 2: Print a message\n",
    "console.log(\"Hi, my name is\", name);\n",
    "console.log(\"I am\", age, \"years old.\");\n",
    "\n",
    "// Step 3: Finished part\n",
    "// TODO: Make a new variable called \"nextYearAge\"\n",
    "// that is the age plus 1\n",
    "\n",
    "let nextYearAge = age + 1;   // <-- finished this line!\n",
    "\n",
    "// TODO: Print out the result\n",
    "// Example: \"Next year I will be 11 years old.\"\n",
    "console.log(\"Next year I will be\", nextYearAge, \"years old.\");   // <-- finished this line!"
   ]
  },
  {
   "cell_type": "markdown",
   "id": "3e70c477",
   "metadata": {},
   "source": [
    "## POPCORN HACK 2: A short program about classes"
   ]
  },
  {
   "cell_type": "code",
   "execution_count": 8,
   "id": "edf524dc",
   "metadata": {
    "vscode": {
     "languageId": "javascript"
    }
   },
   "outputs": [
    {
     "data": {
      "application/javascript": "\n// Step 1: Define the Animal class\nclass Animal {\n  // Initialize each animal with a name, sound, and type\n  constructor(name, sound, kind) {\n    this.name = name;\n    this.sound = sound;\n    this.kind = kind;\n  }\n\n  // Make the animal speak\n  speak() {\n    console.log(`${this.name} the ${this.kind} says ${this.sound}!`);\n  }\n\n  // Bonus method: describe the animal\n  describe() {\n    console.log(`${this.name} is a ${this.kind} and is very friendly!`);\n  }\n}\n\n// Step 2: Create a list to hold all the animals in the zoo\nlet zoo = [];\n\n// Step 3: Add animals to the zoo\n// TODO: Create at least 3 animals and push them into the zoo array\n// Example:\nzoo.push(new Animal(\"Buddy\", \"Woof\", \"Dog\"));\nzoo.push(new Animal(\"Mittens\", \"Meow\", \"Cat\"));\nzoo.push(new Animal(\"Polly\", \"Squawk\", \"Parrot\"));\n\n// Step 4: Loop through all animals and make them speak\n// TODO: Use a for loop (or forEach) to call speak() on each animal\nzoo.forEach(animal => {\n  animal.speak();\n  // Step 5: Optional bonus: Call describe() too\n  animal.describe();\n});\n\n// Step 5 Bonus: Let the user add a new animal (works in browser)\n// Uncomment if running in browser with prompt()\n// let name = prompt(\"Enter the animal's name:\");\n// let sound = prompt(\"Enter the sound it makes:\");\n// let kind = prompt(\"Enter the kind of animal:\");\n// let newAnimal = new Animal(name, sound, kind);\n// zoo.push(newAnimal);\n// newAnimal.speak();\n// newAnimal.describe();\n",
      "text/plain": [
       "<IPython.core.display.Javascript object>"
      ]
     },
     "metadata": {},
     "output_type": "display_data"
    }
   ],
   "source": [
    "%%javascript\n",
    "\n",
    "// Step 1: Define the Animal class\n",
    "class Animal {\n",
    "  // Initialize each animal with a name, sound, and type\n",
    "  constructor(name, sound, kind) {\n",
    "    this.name = name;\n",
    "    this.sound = sound;\n",
    "    this.kind = kind;\n",
    "  }\n",
    "\n",
    "  // Make the animal speak\n",
    "  speak() {\n",
    "    console.log(`${this.name} the ${this.kind} says ${this.sound}!`);\n",
    "  }\n",
    "\n",
    "  // Bonus method: describe the animal\n",
    "  describe() {\n",
    "    console.log(`${this.name} is a ${this.kind} and is very friendly!`);\n",
    "  }\n",
    "}\n",
    "\n",
    "// Step 2: Create a list to hold all the animals in the zoo\n",
    "let zoo = [];\n",
    "\n",
    "// Step 3: Add animals to the zoo\n",
    "// TODO: Create at least 3 animals and push them into the zoo array\n",
    "// Example:\n",
    "zoo.push(new Animal(\"Buddy\", \"Woof\", \"Dog\"));\n",
    "zoo.push(new Animal(\"Mittens\", \"Meow\", \"Cat\"));\n",
    "zoo.push(new Animal(\"Polly\", \"Squawk\", \"Parrot\"));\n",
    "\n",
    "// Step 4: Loop through all animals and make them speak\n",
    "// TODO: Use a for loop (or forEach) to call speak() on each animal\n",
    "zoo.forEach(animal => {\n",
    "  animal.speak();\n",
    "  // Step 5: Optional bonus: Call describe() too\n",
    "  animal.describe();\n",
    "});\n",
    "\n",
    "// Step 5 Bonus: Let the user add a new animal (works in browser)\n",
    "// Uncomment if running in browser with prompt()\n",
    "// let name = prompt(\"Enter the animal's name:\");\n",
    "// let sound = prompt(\"Enter the sound it makes:\");\n",
    "// let kind = prompt(\"Enter the kind of animal:\");\n",
    "// let newAnimal = new Animal(name, sound, kind);\n",
    "// zoo.push(newAnimal);\n",
    "// newAnimal.speak();\n",
    "// newAnimal.describe();"
   ]
  },
  {
   "cell_type": "markdown",
   "id": "268053b9",
   "metadata": {},
   "source": [
    "## Homework"
   ]
  },
  {
   "cell_type": "code",
   "execution_count": 9,
   "id": "cc93fc3c",
   "metadata": {
    "vscode": {
     "languageId": "javascript"
    }
   },
   "outputs": [
    {
     "data": {
      "application/javascript": "\n// Step 1: Make a list of choices\nconst choices = [\"rock\", \"paper\", \"scissors\"];\n\n// Step 2: Ask the user for their choice (browser version with prompt)\nlet userChoice = prompt(\"Choose rock, paper, or scissors:\").toLowerCase();\n\n// Step 3: Computer picks a random choice\nconst computerChoice = choices[Math.floor(Math.random() * choices.length)];\nconsole.log(\"Computer chose:\", computerChoice);\n\n// Step 4: Compare userChoice and computerChoice\nif (userChoice === computerChoice) {\n  console.log(\"It's a tie!\");\n} else if (userChoice === \"rock\" && computerChoice === \"scissors\") {\n  console.log(\"You win!\");\n} else if (userChoice === \"scissors\" && computerChoice === \"paper\") {\n  console.log(\"You win!\");\n} else if (userChoice === \"paper\" && computerChoice === \"rock\") {\n  console.log(\"You win!\");\n} else {\n  console.log(\"You lose!\");\n}\n\n// Bonus: Put the whole game in a loop\n// Uncomment to play multiple rounds in browser\n/*\nwhile (true) {\n  let userChoice = prompt(\"Choose rock, paper, or scissors:\")\n*/\n",
      "text/plain": [
       "<IPython.core.display.Javascript object>"
      ]
     },
     "metadata": {},
     "output_type": "display_data"
    }
   ],
   "source": [
    "%%javascript\n",
    "\n",
    "// Step 1: Make a list of choices\n",
    "const choices = [\"rock\", \"paper\", \"scissors\"];\n",
    "\n",
    "// Step 2: Ask the user for their choice (browser version with prompt)\n",
    "let userChoice = prompt(\"Choose rock, paper, or scissors:\").toLowerCase();\n",
    "\n",
    "// Step 3: Computer picks a random choice\n",
    "const computerChoice = choices[Math.floor(Math.random() * choices.length)];\n",
    "console.log(\"Computer chose:\", computerChoice);\n",
    "\n",
    "// Step 4: Compare userChoice and computerChoice\n",
    "if (userChoice === computerChoice) {\n",
    "  console.log(\"It's a tie!\");\n",
    "} else if (userChoice === \"rock\" && computerChoice === \"scissors\") {\n",
    "  console.log(\"You win!\");\n",
    "} else if (userChoice === \"scissors\" && computerChoice === \"paper\") {\n",
    "  console.log(\"You win!\");\n",
    "} else if (userChoice === \"paper\" && computerChoice === \"rock\") {\n",
    "  console.log(\"You win!\");\n",
    "} else {\n",
    "  console.log(\"You lose!\");\n",
    "}\n",
    "\n",
    "// Bonus: Put the whole game in a loop\n",
    "// Uncomment to play multiple rounds in browser\n",
    "/*\n",
    "while (true) {\n",
    "  let userChoice = prompt(\"Choose rock, paper, or scissors:\")\n",
    "*/"
   ]
  },
  {
   "cell_type": "markdown",
   "id": "ec3d84fd",
   "metadata": {},
   "source": [
    "## Submission!\n",
    "\n",
    "https://forms.gle/2aPP6CXFdQnNaE7GA"
   ]
  }
 ],
 "metadata": {
  "kernelspec": {
   "display_name": "venv",
   "language": "python",
   "name": "python3"
  },
  "language_info": {
   "codemirror_mode": {
    "name": "ipython",
    "version": 3
   },
   "file_extension": ".py",
   "mimetype": "text/x-python",
   "name": "python",
   "nbconvert_exporter": "python",
   "pygments_lexer": "ipython3",
   "version": "3.13.7"
  }
 },
 "nbformat": 4,
 "nbformat_minor": 5
}

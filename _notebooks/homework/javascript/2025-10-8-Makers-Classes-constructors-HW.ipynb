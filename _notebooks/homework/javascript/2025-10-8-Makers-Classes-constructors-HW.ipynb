{
 "cells": [
  {
   "cell_type": "raw",
   "id": "f46d5103",
   "metadata": {
    "vscode": {
     "languageId": "raw"
    }
   },
   "source": [
    "---\n",
    "layout: post\n",
    "title: Classes and Constructors Homework\n",
    "description:  Classes and Constructors Homework\n",
    "categories: [Javascript, Homework]\n",
    "permalink: /classes-constructors-HW-1\n",
    "author: Makers\n",
    "---"
   ]
  },
  {
   "cell_type": "markdown",
   "id": "b0f73322",
   "metadata": {},
   "source": [
    "## <u>JavaScript Classes and Constructors Homework<u>\n",
    "By now you should have a decent grasp of classes and constructors, and how to make and build one. The following exercises should help you solidify your understanding of classes and constructors in JavaScript."
   ]
  },
  {
   "cell_type": "markdown",
   "id": "4be7bd0a",
   "metadata": {
    "vscode": {
     "languageId": "javascript"
    }
   },
   "source": [
    "## Popcorn Hack 1\n",
    "1. The class TennisPlayer has been defined for you. Create a constructor with the arguements name, rank, and rankPoints.\n",
    "2. Call the class with the arguments Novak Djokovic, 1, 16000. \n",
    "3. Add one or more of the following arguments to the initial constructor: age, tournamentsPlayed, titlesWon. Add this as part of the profile output."
   ]
  },
  {
   "cell_type": "code",
   "execution_count": null,
   "id": "7399ab93",
   "metadata": {
    "vscode": {
     "languageId": "javascript"
    }
   },
   "outputs": [],
   "source": [
    "%%javascript\n",
    " \n",
    "class TennisPlayer {\n",
    "    constructor(name, rank, rankPoints, age, tournamentsPlayed, titlesWon) {\n",
    "        this.name = name;\n",
    "        this.rank = rank;\n",
    "        this.rankPoints = rankPoints;\n",
    "        this.age = age;\n",
    "        this.tournamentsPlayed = tournamentsPlayed;\n",
    "        this.titlesWon = titlesWon;\n",
    "    };\n",
    "    profile () {\n",
    "        console.log(\"Hi my name is \" + this.name + \", my rank is \" + this.rank + \" and I have \" + this.rankPoints + \" ranking points.\");\n",
    "        console.log(\"I am \" + this.age + \" years old, have played \" + this.tournamentsPlayed + \" tournaments and won \" + this.titlesWon + \" titles.\");\n",
    "    }\n",
    "\n",
    "};\n",
    "//Call the class here\n",
    "const player = new TennisPlayer(\"Novak Djokovic\", 1, 16000, 38, 350, 24);\n",
    "player.profile();"
   ]
  },
  {
   "cell_type": "markdown",
   "id": "847cedc1",
   "metadata": {},
   "source": [
    "## Popcorn Hack 2\n",
    "\n",
    "1. Create a class called library\n",
    "2. Within library create a class called book with a constructors that allows the two methods - add book and remove book\n",
    "3. Add another inner class called computers - and have it output the number of computers on\n",
    "\n",
    "Below is the starter code to get you started"
   ]
  },
  {
   "cell_type": "code",
   "execution_count": null,
   "id": "e7bad2b3",
   "metadata": {
    "vscode": {
     "languageId": "javascript"
    }
   },
   "outputs": [],
   "source": [
    "// Step 1: Create the main class called Library\n",
    "class Library {\n",
    "    constructor(name) {\n",
    "        this.name = name;\n",
    "        console.log(`Welcome to the`, this.name, `Library!`);\n",
    "    }\n",
    "\n",
    "    // Step 2: Create an inner class called Book\n",
    "    static Book = class {\n",
    "        //create a constructor with that takes the this.books argument.\n",
    "        constructor() {\n",
    "            this.books = [];\n",
    "        }\n",
    "\n",
    "        addBook(title) {\n",
    "            this.books.push(title);\n",
    "            console.log(`Added \"${title}\" to the library.`);\n",
    "        }\n",
    "\n",
    "        removeBook(title) { \n",
    "            const index = this.books.indexOf(title);\n",
    "            if (index > -1) {\n",
    "                this.books.splice(index, 1);\n",
    "                console.log(`Removed \"${title}\" from the library.`);\n",
    "            } else {\n",
    "                console.log(`\"${title}\" not found in the library.`);\n",
    "            }\n",
    "        }\n",
    "    }\n",
    "\n",
    "    // Step 3: Create another inner class called Computers\n",
    "    static Computers = class {\n",
    "        // Create a constructor that takes computersOn as an argument\n",
    "        constructor(computersOn) {\n",
    "            this.computersOn = computersOn;\n",
    "        }\n",
    "\n",
    "        // Create a method that outputs the number of computers on\n",
    "        showComputersOn() {\n",
    "            console.log(`There are ${this.computersOn} computers currently on in the library.`);\n",
    "        }\n",
    "    }\n",
    "}\n",
    "\n",
    "// --- Example Usage ---\n",
    "// Uncomment after writing your constructors!\n",
    "\n",
    "const myLibrary = new Library(\"Downtown\");\n",
    "const bookManager = new Library.Book();\n",
    "const techRoom = new Library.Computers(8);\n",
    "\n",
    "bookManager.addBook(\"The Hobbit\");\n",
    "bookManager.addBook(\"1984\");\n",
    "bookManager.removeBook(\"The Hobbit\");\n",
    "techRoom.showComputersOn();"
   ]
  },
  {
   "cell_type": "markdown",
   "id": "24d1fadb",
   "metadata": {},
   "source": [
    "## Homework\n",
    "Create and expand the Cookie Clicker project:\n",
    "1. Fill out the cookies and cookiesPerClick variables.\n",
    "2. Define what should happen upon clicking the cookie.\n",
    "3. Create an `Upgrade` class that multiplies cookies per click, and expand the original cookieclicker class to integrate upgardes.\n",
    "5. Print how each upgrade changes the total cookie output.\n",
    "6. Add a cookie type variable which sets the specific type of cookie (ex: Chocolate chip, Oatmeal, etc.)\n",
    "The following code is to help you get started.\n",
    "\n",
    "#### Extra credit: Up to 0.03 points\n",
    "- Create a new cell, apply the ALL of the above changes to a blank cookie clicker project, and submit that code for the cookie clicker project."
   ]
  },
  {
   "cell_type": "code",
   "execution_count": null,
   "id": "e9c84d6f",
   "metadata": {
    "vscode": {
     "languageId": "javascript"
    }
   },
   "outputs": [],
   "source": [
    "%%javascript\n",
    "\n",
    "class CookieClicker {\n",
    "  constructor(cookies, cookiesPerClick, cookieType) {\n",
    "    this.cookies = cookies; // start value\n",
    "    this.cookiesPerClick = cookiesPerClick;\n",
    "    this.cookieType = cookieType;\n",
    "    this.upgrades = []; // Array to store the upgrades\n",
    "    console.log(`Starting with ${this.cookies} ${this.cookieType} cookies and ${this.cookiesPerClick} cookies per click!`);\n",
    "  }\n",
    "\n",
    "  click() {\n",
    "    this.cookies += this.cookiesPerClick;\n",
    "    console.log(`You have ${this.cookies} ${this.cookieType} cookies.`);\n",
    "  }\n",
    "  \n",
    "  // Method to add an upgrade to the CookieClicker\n",
    "  addUpgrade(upgrade) {\n",
    "    this.upgrades.push(upgrade);\n",
    "    this.cookiesPerClick *= upgrade.multiplier;\n",
    "    console.log(`Upgrade applied: ${upgrade.name}!`);\n",
    "    console.log(`Your cookies per click increased to ${this.cookiesPerClick}.`);\n",
    "  }\n",
    "}\n",
    "\n",
    "// Upgrade class that multiplies cookies per click\n",
    "class Upgrade {\n",
    "  constructor(name, multiplier, cost) {\n",
    "    this.name = name;\n",
    "    this.multiplier = multiplier;\n",
    "    this.cost = cost;\n",
    "  }\n",
    "}\n",
    "\n",
    "// Create a new cookie clicker instance\n",
    "const myClicker = new CookieClicker(0, 1, \"Chocolate Chip\");\n",
    "\n",
    "// Click the cookie a few times\n",
    "myClicker.click();\n",
    "myClicker.click();\n",
    "myClicker.click();\n",
    "\n",
    "// Create some upgrades\n",
    "const cursor = new Upgrade(\"Cursor\", 2, 10);\n",
    "const grandma = new Upgrade(\"Grandma\", 3, 100);\n",
    "const farm = new Upgrade(\"Farm\", 5, 500);\n",
    "\n",
    "// Apply upgrades and show their effects\n",
    "console.log(\"\\nApplying upgrades:\");\n",
    "myClicker.addUpgrade(cursor);\n",
    "myClicker.click(); // Should now give 2 cookies per click\n",
    "\n",
    "myClicker.addUpgrade(grandma);\n",
    "myClicker.click(); // Should now give 6 cookies per click (2*3)\n",
    "\n",
    "myClicker.addUpgrade(farm);\n",
    "myClicker.click(); // Should now give 30 cookies per click (2*3*5)\n",
    "\n",
    "console.log(`\\nTotal cookies: ${myClicker.cookies}`);\n",
    "console.log(`Final cookies per click: ${myClicker.cookiesPerClick}`);\n",
    "console.log(`Cookie type: ${myClicker.cookieType}`);"
   ]
  },
  {
   "cell_type": "markdown",
   "id": "0180a89f",
   "metadata": {},
   "source": [
    "This is where you will find homework: [Github Homework Link](https://github.com/Open-Coding-Society/pages/tree/main/_notebooks/CSSE/JavaScriptLessons/Classes_and_Methods)"
   ]
  }
 ],
 "metadata": {
  "kernelspec": {
   "display_name": "venv",
   "language": "python",
   "name": "python3"
  },
  "language_info": {
   "name": "python",
   "version": "3.12.3"
  }
 },
 "nbformat": 4,
 "nbformat_minor": 5
}

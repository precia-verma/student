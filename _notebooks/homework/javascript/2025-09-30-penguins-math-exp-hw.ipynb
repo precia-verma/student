{
 "cells": [
  {
   "cell_type": "markdown",
   "id": "1d027778",
   "metadata": {},
   "source": [
    "# Mathematical Expressions Homework\n",
    "This notebook is organized into clear sections for each part of the assignment."
   ]
  },
  {
   "cell_type": "markdown",
   "id": "0c272378",
   "metadata": {},
   "source": [
    "---\n",
    "layout: opencs\n",
    "data: js-lessons\n",
    "title: Mathematical Expressions Homework\n",
    "permalink: /penguins/js-lessons/homework/math-expressions\n",
    "---"
   ]
  },
  {
   "cell_type": "markdown",
   "id": "efe26fd7",
   "metadata": {},
   "source": [
    "# Penguins JS Lessons\n",
    "\n",
    "<a href=\"https://github.com/Comp-Sci-Team/js-lesson_pages/blob/main/_notebooks/CSSE/JavaScriptLessons/Mathematic_Expressions/2025-09-30-penguins-math-exp-hw.ipynb\" download><b>Download Homework</b></a> <br/>\n",
    "<a href=\"https://docs.google.com/forms/d/e/1FAIpQLSfwgZR0QYAg_uYuZ7XqqEm-xlU0-gZFE2dtgnKEe5kH7Yp0Vg/viewform?usp=dialog\"><b>Submission Google Form for Homework</b></a>\n",
    "\n",
    "## **Mathematical Expressions Homework**\n",
    "In order to learn this subject of programming well, you have to practice:\n",
    "\n",
    "> Popcorn hack 1: operations with variables\n",
    "\n",
    "> Popcorn hack 2: Make 2 variables `x`, and `y`. Compute 3 different operations and log it into the console with console.log();\n",
    "\n",
    "> Final Task: Build a system of functions that represent different mathematical expressions. Each of these functions will perform a different mathematical operation(ex: add, subtract). Make at least 5 of these different functions.\n",
    "\n",
    "---"
   ]
  },
  {
   "cell_type": "markdown",
   "id": "4961d2b6",
   "metadata": {},
   "source": [
    "## <b>Popcorn Hack 1 (Progress Check)</b>\n",
    "\n",
    "<b>Part 1:</b><br/>\n",
    "In the javascript node below, make 2 variables, `num1` set to 6 and `num2` set to 3, then write the equation `(num1 * num2) + (num1 / 2)`.\n",
    "\n",
    "The output should be 21.<br/>\n",
    "<br/>\n",
    "<b>Part 2:</b><br/>\n",
    "Next, keeping the same variables, add a new variable called `total` that is equal to the equation `num1 / num2 + 2 ** 3`, and this time make the equation<br/><br/> `(total + 15) - numb1 ** 2 / 4` <br/><br/>\n",
    "\n",
    "Write this code below:"
   ]
  },
  {
   "cell_type": "code",
   "execution_count": null,
   "id": "4d2fb66c",
   "metadata": {
    "vscode": {
     "languageId": "javascript"
    }
   },
   "outputs": [],
   "source": [
    "\n",
    "let num1 = 6;\n",
    "let num2 = 3;\n",
    "\n",
    "let firstEquation = (num1 * num2) + (num1 / 2);\n",
    "console.log(\"Part 1 result:\", firstEquation); // This should give us 21\n",
    "\n",
    "let total = (num1 / num2) + 2 ** 3;\n",
    "\n",
    "let secondEquation = (total + 15) - num1 ** 2 / 4;\n",
    "console.log(\"Part 2 result:\", secondEquation);"
   ]
  },
  {
   "cell_type": "markdown",
   "id": "3f895afa",
   "metadata": {},
   "source": [
    "---\n",
    "\n",
    "## Popcorn Hack 2 (Progress check):\n",
    "\n",
    "Create 2 variables `x` and `y`. With the output area below, provide 3 different operators used with the 2 variables<br/>(`ex: let sum = x + y;`)<br/> and fill in the output with a sentence that provides all three operators and their respective answer."
   ]
  },
  {
   "cell_type": "code",
   "execution_count": null,
   "id": "0f0f3532",
   "metadata": {
    "vscode": {
     "languageId": "html"
    }
   },
   "outputs": [],
   "source": [
    "%%html\n",
    "\n",
    "<h3>Popcorn hack 2 output</h3>\n",
    "<div id=\"homework1\"></div>\n",
    "<script>    \n",
    "(() => {\n",
    "    // Your variables go here\n",
    "    let x = 8;\n",
    "    let y = 4;\n",
    "\n",
    "\t// put your operations here:\n",
    "\t\n",
    "\tlet Addition = x + y;  // Addition\n",
    "\tlet Multiplication = x * y;  // Multiplication\n",
    "\tlet Subtraction = x - y;  // Subtraction\n",
    "\n",
    "    // Put the answer for the 3 operators in this DOM element\n",
    "    document.getElementById(\"homework1\").innerText = `Using x = ${x} and y = ${y}: Addition (${x} + ${y}) = ${Addition}, Multiplication (${x} * ${y}) = ${Multiplication}, and Subtraction (${x} - ${y}) = ${Subtraction}.`;\n",
    "})();\n",
    "</script>"
   ]
  },
  {
   "cell_type": "markdown",
   "id": "b617fe79",
   "metadata": {},
   "source": [
    "---\n",
    "\n",
    "## Final Task:\n",
    "\n",
    "1. Make 5 different functions, each with different operators/expressions:\n",
    "\n",
    "- Addition\n",
    "- Subtraction\n",
    "- Multiplication\n",
    "- Exponential\n",
    "- Modulus\n",
    "\n",
    "2. Be able to use the functions as well as <code>document.getElementById</code> to make the buttons output the result.\n",
    "\n",
    "3. Have fun! Mess around with different variables with different values, and maybe see if you can make any complex equations like the ones you're learning in your math class. The end objective is for you to be able to use and understand math expressions.\n",
    "\n",
    "\n",
    "### Example function:\n",
    "\n",
    "```\n",
    "function add(a, b)\n",
    "{\n",
    "\treturn a + b;\n",
    "}\n",
    "```\n",
    "\n",
    "### Some ideas you can use:\n",
    "- Multiply Function\n",
    "- Square root function\n",
    "- Cube root function\n",
    "\n",
    "---"
   ]
  },
  {
   "cell_type": "markdown",
   "id": "61993a02",
   "metadata": {},
   "source": [
    "Now that you have seen the example, you will start writing your custom functions in the html code block below: <br>\n",
    "<u> Make sure to follow each comment on where to write your code, don't modify any existing code. </u>\n",
    "<br><br>"
   ]
  },
  {
   "cell_type": "code",
   "execution_count": null,
   "id": "34761f47",
   "metadata": {
    "vscode": {
     "languageId": "html"
    }
   },
   "outputs": [],
   "source": [
    "// Create HTML elements for the calculator\n",
    "document.body.innerHTML += `\n",
    "<h2>Math Calculator</h2>\n",
    "\n",
    "<button onclick=\"Add(4,5)\">Add: 4 + 5</button>\n",
    "<div id=\"functionOutput1\"></div>\n",
    "\n",
    "<button onclick=\"Subtract(12,7)\">Subtract: 12 - 7</button>\n",
    "<div id=\"functionOutput2\"></div>\n",
    "\n",
    "<button onclick=\"Multiply(6,8)\">Multiply: 6 * 8</button>\n",
    "<div id=\"functionOutput3\"></div>\n",
    "\n",
    "<button onclick=\"Power(3,4)\">Power: 3^4</button>\n",
    "<div id=\"functionOutput4\"></div>\n",
    "\n",
    "<button onclick=\"Modulus(17,5)\">Remainder: 17 % 5</button>\n",
    "<div id=\"functionOutput5\"></div>\n",
    "`;\n",
    "\n",
    "function Add(a, b) {\n",
    "    const result = a + b;\n",
    "    document.getElementById(\"functionOutput1\").innerText = `Adding ${a} and ${b} gives you ${result}!`;\n",
    "}\n",
    "\n",
    "function Subtract(a, b) {\n",
    "    const result = a - b;\n",
    "    document.getElementById(\"functionOutput2\").innerText = `Subtracting ${b} from ${a} equals ${result}.`;\n",
    "}\n",
    "\n",
    "function Multiply(a, b) {\n",
    "    const result = a * b;\n",
    "    document.getElementById(\"functionOutput3\").innerText = `Multiplying ${a} by ${b} gives you ${result}.`;\n",
    "}\n",
    "\n",
    "function Power(a, b) {\n",
    "    const result = a ** b;\n",
    "    document.getElementById(\"functionOutput4\").innerText = `${a} raised to the power of ${b} is ${result}.`;\n",
    "}\n",
    "\n",
    "function Modulus(a, b) {\n",
    "    const result = a % b;\n",
    "    document.getElementById(\"functionOutput5\").innerText = `The remainder when ${a} is divided by ${b} is ${result}.`;\n",
    "}"
   ]
  }
 ],
 "metadata": {
  "language_info": {
   "name": "python"
  }
 },
 "nbformat": 4,
 "nbformat_minor": 5
}

{
 "cells": [
  {
   "cell_type": "code",
   "execution_count": null,
   "id": "4b53fcca",
   "metadata": {
    "vscode": {
     "languageId": "yaml"
    }
   },
   "outputs": [],
   "source": [
    "---\n",
    "layout: base\n",
    "toc: True\n",
    "breadcrumb: True\n",
    "title: CSSE Classes and Methods HW\n",
    "description: These are the homework problems and popcorn hacks.\n",
    "permalink: classes-and-methods/homework\n",
    "author: Adya S, Niharika B, Salma Z, Anika S, Sophie H\n",
    "---"
   ]
  },
  {
   "cell_type": "markdown",
   "id": "b3557a9a",
   "metadata": {},
   "source": [
    "# CSSE Classes and Methods Homework\n",
    "\n",
    "## Table of Contents\n",
    "1. [Popcorn Hack 1 - Dice Roller](#popcorn-hack-1)\n",
    "2. [Popcorn Hack 2 - Pet Simulator](#popcorn-hack-2)\n",
    "3. [Homework Problems](#homework-problems)\n",
    "4. [Extra Credit](#extra-credit)\n",
    "\n",
    "---\n",
    "\n",
    "## Popcorn Hack 1 - Dice Roller\n",
    "\n",
    "### Instructions:\n",
    "Finish the code in the cell below (fill in underlines and add lines of code) so it works as described:\n",
    "\n",
    "- Create a class called Dice that:\n",
    "    - Has a property for the number of sides.\n",
    "    - Has a method roll() that returns a random number between 1 and the number of sides.\n",
    "\n",
    "At the bottom, test your game by making a DiceGame object and calling roll() a few times.\n",
    "\n",
    "The code is currently NOT functional. When you have completed this popcorn hack, the code should work. Have fun!"
   ]
  },
  {
   "cell_type": "code",
   "execution_count": null,
   "id": "769fc409",
   "metadata": {
    "vscode": {
     "languageId": "javascript"
    }
   },
   "outputs": [],
   "source": [
    "%%javascript\n",
    "\n",
    "class Dice { // What should the name of the class be?\n",
    "  constructor(sides) { // Constructor to initialize the number of sides\n",
    "    this.sides = sides; // Number of sides on the dice\n",
    "  }\n",
    "\n",
    "  roll() { // What should the name of the method be?\n",
    "    return Math.floor(Math.random() * this.sides) + 1; // Rolls the dice and returns a number between 1 and the number of sides\n",
    "  }\n",
    "}\n",
    "\n",
    "// Test the Dice class:\n",
    "// INSTANTIATE A NEW DICE OBJECT WITH A NUMBER OF SIDES\n",
    "const dice = new Dice(6); // 6-sided dice\n",
    "\n",
    "// CALL THE ROLL METHOD A FEW TIMES AND PRINT THE RESULTS\n",
    "console.log(\"Rolling the dice 5 times:\");\n",
    "for (let i = 0; i < 5; i++) {\n",
    "  console.log(`Roll ${i+1}: ${dice.roll()}`);\n",
    "}"
   ]
  },
  {
   "cell_type": "markdown",
   "id": "3731982a",
   "metadata": {},
   "source": [
    "## Popcorn Hack 2 - Pet Simulator\n",
    "\n",
    "### Instructions:\n",
    "This hack is a bit more complicated than the first. Points will be awarded based on effort and completion.\n",
    "\n",
    "Analyze the block of code below. Then, complete the following instructions:\n",
    "\n",
    "1) Create a simple Pet class by filling in the _________.\n",
    "2) Add at least 2 properties (like hunger, energy, or happiness). EX: Stats decrease over time.\n",
    "3) Add at least two functioning methods (such as feed, play, or sleep) EX: Buttons increase stats.\n",
    "4) Give your pet a name and print their current properties.\n",
    "5) Bonus: Add a \"status\" method to print all your pet's stats.\n",
    "\n",
    "The code is currently NOT functional. When you have completed this popcorn hack, the code should work. Have fun!"
   ]
  },
  {
   "cell_type": "code",
   "execution_count": 1,
   "id": "f5d46ae4",
   "metadata": {
    "vscode": {
     "languageId": "javascript"
    }
   },
   "outputs": [
    {
     "data": {
      "application/javascript": "\nclass Pet {\n  constructor(name) {\n    this.name = name;\n    this.hunger = 5;   // you can change these values\n    this.energy = 5;\n    this.happiness = 5;\n  }\n\n  // Feed method - allow user to feed pet\n  feed() {\n    this.energy += 1;        // increase energy\n    this.hunger -= 2;        // decrease hunger\n    this.happiness += 1;     // increase happiness\n    console.log(`${this.name} has been fed!`); // print that the pet has been fed to console\n  }\n\n  // Play method - allow user to play with pet\n  play() {\n    this.energy -= 1;        // decrease energy\n    this.hunger += 1;        // increase hunger\n    this.happiness += 2;     // increase happiness\n    console.log(`${this.name} has been played with!`); // print that the pet has been played with to console\n  }\n}\n\nconst myPet = new Pet(\"Buddy\"); // give your pet a name\nconsole.log(`Pet name: ${myPet.name}, Hunger: ${myPet.hunger}, Energy: ${myPet.energy}, Happiness: ${myPet.happiness}`); // print the properties of your pet to console\n\n// Test your methods below:\nmyPet.feed();\nmyPet.play();\n",
      "text/plain": [
       "<IPython.core.display.Javascript object>"
      ]
     },
     "metadata": {},
     "output_type": "display_data"
    }
   ],
   "source": [
    "%%javascript\n",
    "\n",
    "class Pet {\n",
    "  constructor(name) {\n",
    "    this.name = name;\n",
    "    this.hunger = 5;   // you can change these values\n",
    "    this.energy = 5;\n",
    "    this.happiness = 5;\n",
    "  }\n",
    "\n",
    "  // Feed method - allow user to feed pet\n",
    "  feed() {\n",
    "    this.energy += 1;        // increase energy\n",
    "    this.hunger -= 2;        // decrease hunger\n",
    "    this.happiness += 1;     // increase happiness\n",
    "    console.log(`${this.name} has been fed!`); // print that the pet has been fed to console\n",
    "  }\n",
    "\n",
    "  // Play method - allow user to play with pet\n",
    "  play() {\n",
    "    this.energy -= 1;        // decrease energy\n",
    "    this.hunger += 1;        // increase hunger\n",
    "    this.happiness += 2;     // increase happiness\n",
    "    console.log(`${this.name} has been played with!`); // print that the pet has been played with to console\n",
    "  }\n",
    "}\n",
    "\n",
    "const myPet = new Pet(\"Buddy\"); // give your pet a name\n",
    "console.log(`Pet name: ${myPet.name}, Hunger: ${myPet.hunger}, Energy: ${myPet.energy}, Happiness: ${myPet.happiness}`); // print the properties of your pet to console\n",
    "\n",
    "// Test your methods below:\n",
    "myPet.feed();\n",
    "myPet.play();"
   ]
  },
  {
   "cell_type": "markdown",
   "id": "ce0ad101",
   "metadata": {},
   "source": [
    "## Homework Problems\n",
    "\n",
    "Complete the following questions in the next code block.\n",
    "\n",
    "1) Create a class Person with properties 'name' and 'age'. Print their properties.\n",
    "2) Add a method greet() to your Person class that prints a greeting using the person's name.\n",
    "3) Create a class Book with properties 'title', 'author', and 'pages'. Instantiate a book and print its properties.\n",
    "4) Add a method read(pages) to your Book class that increments a pagesRead property and prints a message.\n",
    "5) Add a method isLongBook() that returns true if pages > 300, otherwise false. Print the result for your book.\n",
    "6) Create a class Car with properties 'make', 'model', and 'fuel'. Add methods drive(distance) and refuel(amount). Print messages in each method.\n",
    "7) Add a static method info() to your Car class that prints 'Cars are vehicles.'\n",
    "8) Create a class ElectricCar that extends Car. Add a property 'battery' and a method charge(amount) that increases battery. Print battery level after charging.\n",
    "10) Create a routine that combines your objects: drive a Car, charge an ElectricCar, read pages from a Book, and call greet() on Person. Print outputs for each action."
   ]
  },
  {
   "cell_type": "code",
   "execution_count": 5,
   "id": "dffe9aac",
   "metadata": {
    "vscode": {
     "languageId": "javascript"
    }
   },
   "outputs": [
    {
     "data": {
      "application/javascript": "\n// 1) Create a class Person with properties 'name' and 'age'. Print their properties.\nclass Person {\n  constructor(name, age) {\n    this.name = name;\n    this.age = age;\n  }\n\n  // 2) Add a method greet() to your Person class that prints a greeting using the person's name.\n  greet() {\n    console.log(`Hello, my name is ${this.name}!`);\n  }\n}\n\n// Create and test Person\nconst person1 = new Person(\"Precia\", 14);\nconsole.log(`Person: Name = ${person1.name}, Age = ${person1.age}`);\n\n// 3) Create a class Book with properties 'title', 'author', and 'pages'. Instantiate a book and print its properties.\nclass Book {\n  constructor(title, author, pages) {\n    this.title = title;\n    this.author = author;\n    this.pages = pages;\n    this.pagesRead = 0;\n  }\n\n  // 4) Add a method read(pages) to your Book class that increments a pagesRead property and prints a message.\n  read(pages) {\n    this.pagesRead += pages;\n    console.log(`You read ${pages} pages. Total pages read: ${this.pagesRead}`);\n  }\n\n  // 5) Add a method isLongBook() that returns true if pages > 300, otherwise false. Print the result for your book.\n  isLongBook() {\n    return this.pages > 300;\n  }\n}\n\n// Create and test Book\nconst book1 = new Book(\"Harry Potter\", \"J.K. Rowling\", 350);\nconsole.log(`Book: Title = ${book1.title}, Author = ${book1.author}, Pages = ${book1.pages}`);\n\n// 6) Create a class Car with properties 'make', 'model', and 'fuel'. Add methods drive(distance) and refuel(amount). Print messages in each method.\nclass Car {\n  constructor(make, model, fuel) {\n    this.make = make;\n    this.model = model;\n    this.fuel = fuel;\n  }\n\n  drive(distance) {\n    const fuelUsed = distance * 0.1; // Assume 0.1 fuel per unit distance\n    this.fuel -= fuelUsed;\n    console.log(`Driving ${distance} miles. Fuel used: ${fuelUsed}. Remaining fuel: ${this.fuel}`);\n  }\n\n  refuel(amount) {\n    this.fuel += amount;\n    console.log(`Refueled ${amount} gallons. Current fuel: ${this.fuel}`);\n  }\n\n  // 7) Add a static method info() to your Car class that prints 'Cars are vehicles.'\n  static info() {\n    console.log(\"Cars are vehicles.\");\n  }\n}\n\n// 8) Create a class ElectricCar that extends Car. Add a property 'battery' and a method charge(amount) that increases battery. Print battery level after charging.\nclass ElectricCar extends Car {\n  constructor(make, model, fuel, battery) {\n    super(make, model, fuel);\n    this.battery = battery;\n  }\n\n  charge(amount) {\n    this.battery += amount;\n    console.log(`Charged ${amount}%. Current battery level: ${this.battery}%`);\n  }\n}\n\n// Create and test objects\nconst car1 = new Car(\"Toyota\", \"Camry\", 15);\nconsole.log(`Car created: ${car1.make} ${car1.model} with ${car1.fuel} gallons of fuel`);\n\nconst electricCar1 = new ElectricCar(\"Tesla\", \"Model 3\", 0, 80);\nconsole.log(`Electric Car created: ${electricCar1.make} ${electricCar1.model} with ${electricCar1.battery}% battery`);\n\n// 10) Create a routine that combines your objects: drive a Car, charge an ElectricCar, read pages from a Book, and call greet() on Person. Print outputs for each action.\nconsole.log(\"\\n=== Combined Routine ===\");\n\n// Drive the car\ncar1.drive(50);\n\n// Charge the electric car\nelectricCar1.charge(20);\n\n// Read pages from the book\nbook1.read(25);\n\n// Check if book is long\nconsole.log(`Is \"${book1.title}\" a long book? ${book1.isLongBook()}`);\n\n// Person greets\nperson1.greet();\n\n// Call static method\nCar.info();\n\nconsole.log(\"\\n=== All homework completed! ===\");\n",
      "text/plain": [
       "<IPython.core.display.Javascript object>"
      ]
     },
     "metadata": {},
     "output_type": "display_data"
    }
   ],
   "source": [
    "%%javascript\n",
    "\n",
    "// 1) Create a class Person with properties 'name' and 'age'. Print their properties.\n",
    "class Person {\n",
    "  constructor(name, age) {\n",
    "    this.name = name;\n",
    "    this.age = age;\n",
    "  }\n",
    "\n",
    "  // 2) Add a method greet() to your Person class that prints a greeting using the person's name.\n",
    "  greet() {\n",
    "    console.log(`Hello, my name is ${this.name}!`);\n",
    "  }\n",
    "}\n",
    "\n",
    "// Create and test Person\n",
    "const person1 = new Person(\"Precia\", 14);\n",
    "console.log(`Person: Name = ${person1.name}, Age = ${person1.age}`);\n",
    "\n",
    "// 3) Create a class Book with properties 'title', 'author', and 'pages'. Instantiate a book and print its properties.\n",
    "class Book {\n",
    "  constructor(title, author, pages) {\n",
    "    this.title = title;\n",
    "    this.author = author;\n",
    "    this.pages = pages;\n",
    "    this.pagesRead = 0;\n",
    "  }\n",
    "\n",
    "  // 4) Add a method read(pages) to your Book class that increments a pagesRead property and prints a message.\n",
    "  read(pages) {\n",
    "    this.pagesRead += pages;\n",
    "    console.log(`You read ${pages} pages. Total pages read: ${this.pagesRead}`);\n",
    "  }\n",
    "\n",
    "  // 5) Add a method isLongBook() that returns true if pages > 300, otherwise false. Print the result for your book.\n",
    "  isLongBook() {\n",
    "    return this.pages > 300;\n",
    "  }\n",
    "}\n",
    "\n",
    "// Create and test Book\n",
    "const book1 = new Book(\"Harry Potter\", \"J.K. Rowling\", 350);\n",
    "console.log(`Book: Title = ${book1.title}, Author = ${book1.author}, Pages = ${book1.pages}`);\n",
    "\n",
    "// 6) Create a class Car with properties 'make', 'model', and 'fuel'. Add methods drive(distance) and refuel(amount). Print messages in each method.\n",
    "class Car {\n",
    "  constructor(make, model, fuel) {\n",
    "    this.make = make;\n",
    "    this.model = model;\n",
    "    this.fuel = fuel;\n",
    "  }\n",
    "\n",
    "  drive(distance) {\n",
    "    const fuelUsed = distance * 0.1; // Assume 0.1 fuel per unit distance\n",
    "    this.fuel -= fuelUsed;\n",
    "    console.log(`Driving ${distance} miles. Fuel used: ${fuelUsed}. Remaining fuel: ${this.fuel}`);\n",
    "  }\n",
    "\n",
    "  refuel(amount) {\n",
    "    this.fuel += amount;\n",
    "    console.log(`Refueled ${amount} gallons. Current fuel: ${this.fuel}`);\n",
    "  }\n",
    "\n",
    "  // 7) Add a static method info() to your Car class that prints 'Cars are vehicles.'\n",
    "  static info() {\n",
    "    console.log(\"Cars are vehicles.\");\n",
    "  }\n",
    "}\n",
    "\n",
    "// 8) Create a class ElectricCar that extends Car. Add a property 'battery' and a method charge(amount) that increases battery. Print battery level after charging.\n",
    "class ElectricCar extends Car {\n",
    "  constructor(make, model, fuel, battery) {\n",
    "    super(make, model, fuel);\n",
    "    this.battery = battery;\n",
    "  }\n",
    "\n",
    "  charge(amount) {\n",
    "    this.battery += amount;\n",
    "    console.log(`Charged ${amount}%. Current battery level: ${this.battery}%`);\n",
    "  }\n",
    "}\n",
    "\n",
    "// Create and test objects\n",
    "const car1 = new Car(\"Toyota\", \"Camry\", 15);\n",
    "console.log(`Car created: ${car1.make} ${car1.model} with ${car1.fuel} gallons of fuel`);\n",
    "\n",
    "const electricCar1 = new ElectricCar(\"Tesla\", \"Model 3\", 0, 80);\n",
    "console.log(`Electric Car created: ${electricCar1.make} ${electricCar1.model} with ${electricCar1.battery}% battery`);\n",
    "\n",
    "// 10) Create a routine that combines your objects: drive a Car, charge an ElectricCar, read pages from a Book, and call greet() on Person. Print outputs for each action.\n",
    "console.log(\"\\n=== Combined Routine ===\");\n",
    "\n",
    "// Drive the car\n",
    "car1.drive(50);\n",
    "\n",
    "// Charge the electric car\n",
    "electricCar1.charge(20);\n",
    "\n",
    "// Read pages from the book\n",
    "book1.read(25);\n",
    "\n",
    "// Check if book is long\n",
    "console.log(`Is \"${book1.title}\" a long book? ${book1.isLongBook()}`);\n",
    "\n",
    "// Person greets\n",
    "person1.greet();\n",
    "\n",
    "// Call static method\n",
    "Car.info();\n",
    "\n",
    "console.log(\"\\n=== All homework completed! ===\");"
   ]
  },
  {
   "cell_type": "markdown",
   "id": "9125cf72",
   "metadata": {},
   "source": [
    "## Extra Credit\n",
    "\n",
    "**Extra Credit:** Submit the original OOP Breakout Game Code (found on [OpenCS](https://github.com/Open-Coding-Society/pages/blob/main/hacks/breakout/breakout.md?plain=1)) after making the following edits:\n",
    "- Add another feature to the game: Add a method so that the ball must collide with some bricks twice for a brick to break completely.\n",
    "- Edit a method in the ball class to increase/decrease the speed of the ball: Please add a COMMENT on the game code that specifies which line you edited."
   ]
  }
 ],
 "metadata": {
  "kernelspec": {
   "display_name": "venv",
   "language": "python",
   "name": "python3"
  },
  "language_info": {
   "codemirror_mode": {
    "name": "ipython",
    "version": 3
   },
   "file_extension": ".py",
   "mimetype": "text/x-python",
   "name": "python",
   "nbconvert_exporter": "python",
   "pygments_lexer": "ipython3",
   "version": "3.13.7"
  }
 },
 "nbformat": 4,
 "nbformat_minor": 5
}

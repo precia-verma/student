{
 "cells": [
  {
   "cell_type": "code",
   "execution_count": null,
   "id": "4d0bb737",
   "metadata": {
    "vscode": {
     "languageId": "plaintext"
    }
   },
   "outputs": [],
   "source": [
    "---\n",
    "title: \"📈 My Journey: Accomplishments and Areas for Improvement\" \n",
    "comments: true\n",
    "layout: base\n",
    "permalink: /accomplish-improve\n",
    "description: Personal reflections on accomplishments and areas for improvement\n",
    "author: The Coders!\n",
    "---"
   ]
  },
  {
   "cell_type": "markdown",
   "id": "83094644",
   "metadata": {},
   "source": [
    "<div style=\"text-align:center; background-color: #1a1a1a; padding: 40px; border-radius: 20px; margin-bottom: 40px; color: #ffffff; box-shadow: 0 8px 12px rgba(0, 0, 0, 0.2);\">\n",
    "<h1 style=\"color: #ffffff; font-size: 2.5em; margin-bottom: 15px; font-family: 'Arial', sans-serif;\">📈 My Journey: Accomplishments and Areas for Improvement</h1>\n",
    "<p style=\"color: #ffffff; font-size: 1.2em; font-style: italic;\">A personal reflection on growth and achievement - October 1st, 2025</p>\n",
    "</div>\n",
    "\n",
    "<div style=\"background-color: #1a1a1a; padding: 30px; border-left: 8px solid #4a86e8; margin-bottom: 30px; color: #ffffff; border-radius: 10px; box-shadow: 0 4px 8px rgba(0, 0, 0, 0.15);\">\n",
    "<h2 style=\"color: #4a86e8; border-bottom: 3px solid #ff5733; padding-bottom: 10px; display: inline-block; font-family: 'Arial', sans-serif;\">🌟 Introduction</h2>\n",
    "\n",
    "<p style=\"color: #ffffff; font-size: 1.1em; line-height: 1.8; font-family: 'Georgia', serif;\">Welcome to my reflection blog! This post documents my journey through the first 6 weeks of the trimester, highlighting my key accomplishments and identifying areas where I plan to grow. Self-reflection is a critical part of the learning process, and I'm excited to share my progress with you.</p>\n",
    "</div>"
   ]
  },
  {
   "cell_type": "markdown",
   "id": "13ca31f2",
   "metadata": {},
   "source": [
    "<div style=\"background-color: #1a1a1a; padding: 20px; border-radius: 12px; margin-bottom: 25px; color: #ffffff; box-shadow: 0 2px 4px rgba(0, 0, 0, 0.05);\">\n",
    "<h2 style=\"color: #ffffff; border-bottom: 2px solid #e87c7c; padding-bottom: 8px; display: inline-block;\">🚀 Areas for Improvement</h2>\n",
    "\n",
    "<h3 style=\"color: #ffffff; margin-top: 20px; font-weight: 600;\">💪 Skills to Develop</h3>\n",
    "\n",
    "<ol style=\"color: #ffffff; font-size: 1.05em; line-height: 1.6;\">\n",
    "<li style=\"color: #ffffff; margin-bottom: 15px;\"><strong style=\"color: #ffffff;\">Technical Development</strong>: I believe we should after a more effecive way for the student to access the homework in their own repository. This time we used a tinyurl link, but next time we will not be able to use this, so we need to create a more better and easier way to transport the homework and hacks files into their repository.</li>\n",
    "\n",
    "<li style=\"color: #ffffff;\"><strong style=\"color: #ffffff;\">Collabaration Development</strong>: I believe that they should've been able to contribute into what the scrum master (Precia Verma) is doing. My scrummers should try to ask me what I am doing and what my plan for the future is so they get on the same track as me. I also belive that they could put more efoort into CSSE because they should'nt be able to take credit for the work that I do, they should be able to create the same things that I do.</li>\n",
    "</ol>\n",
    "\n",
    "<h3 style=\"color: #ffffff; margin-top: 20px; font-weight: 600;\">📝 Learning Strategies</h3>\n",
    "\n",
    "<p style=\"color: #ffffff; font-style: italic; margin-bottom: 15px;\">To address these improvement areas, I plan to:</p>\n",
    "<ul style=\"color: #ffffff; list-style-type: none; background-color: #333333; padding: 15px; border-radius: 8px;\">\n",
    "<li style=\"color: #ffffff; margin: 10px 0;\"><span style=\"display: inline-block; width: 28px; text-align: center; color: #ffffff;\">⏰</span> Dedicate 2 hours every weekend to focused learning on my weak areas</li>\n",
    "<li style=\"color: #ffffff; margin: 10px 0;\"><span style=\"display: inline-block; width: 28px; text-align: center; color: #ffffff;\">👥</span> Try to let each person have a specific role in the team and a specific task they have to do, and if they don't do it, the team should not be responsible for a task they were supposed to do.</li>\n",
    "<li style=\"color: #ffffff; margin: 10px 0;\"><span style=\"display: inline-block; width: 28px; text-align: center; color: #ffffff;\">💻</span> Complete at least one challenging coding problem that many people face daily</li>\n",
    "<li style=\"color: #ffffff; margin: 10px 0;\"><span style=\"display: inline-block; width: 28px; text-align: center; color: #ffffff;\">🙋‍♀️</span> Participate more actively in class discussions to clarify doubts immediately and come to office hours.</li>\n",
    "</ul>\n",
    "</div>\n",
    "\n",
    "<div style=\"text-align: center; margin: 20px 0; color: #ffffff;\">\n",
    "<hr style=\"width: 60%; margin: auto; border: none; border-top: 2px dashed #ccc;\">\n",
    "</div>\n",
    "\n",
    "<div style=\"background-color: #1a1a1a; padding: 20px; border-radius: 12px; margin-bottom: 25px; color: #ffffff; box-shadow: 0 2px 4px rgba(0, 0, 0, 0.05);\">\n",
    "<h2 style=\"color: #ffffff; border-bottom: 2px solid #4a86e8; padding-bottom: 8px; display: inline-block;\">📊 Visual Progress Tracker</h2>\n",
    "\n",
    "<p style=\"color: #ffffff; text-align: center; font-style: italic; margin: 15px 0;\">Below is a visual representation of my progress in key areas:</p>\n",
    "\n",
    "<table style=\"width: 100%; border-collapse: separate; border-spacing: 0; margin: 20px 0; color: #ffffff; background-color: #333333; box-shadow: 0 2px 6px rgba(0, 0, 0, 0.1); border-radius: 8px; overflow: hidden;\">\n",
    "  <tr style=\"background-color: #444444; color: #ffffff;\">\n",
    "    <th style=\"padding: 12px; text-align: center; border: 1px solid #666666; color: #ffffff; font-weight: 600; background-color: #444444;\">Skill Area</th>\n",
    "    <th style=\"padding: 12px; text-align: center; border: 1px solid #666666; color: #ffffff; font-weight: 600; background-color: #444444;\">September</th>\n",
    "    <th style=\"padding: 12px; text-align: center; border: 1px solid #666666; color: #ffffff; font-weight: 600; background-color: #444444;\">October</th>\n",
    "    <th style=\"padding: 12px; text-align: center; border: 1px solid #666666; color: #ffffff; font-weight: 600; background-color: #444444;\">Target (December)</th>\n",
    "  </tr>\n",
    "  <tr style=\"color: #ffffff; background-color: #2c2c2c;\">\n",
    "    <td style=\"padding: 12px; text-align: center; border: 1px solid #666666; color: #ffffff; background-color: #2c2c2c;\"><strong style=\"color: #ffffff;\">Collabaration</strong></td>\n",
    "    <td style=\"padding: 12px; text-align: center; border: 1px solid #666666; color: #ffffff; background-color: #2c2c2c;\">█░░░░░░░░░ 10%</td>\n",
    "    <td style=\"padding: 12px; text-align: center; border: 1px solid #666666; color: #ffffff; background-color: #2c2c2c;\">██████░░░░ 65%</td>\n",
    "    <td style=\"padding: 12px; text-align: center; border: 1px solid #666666; color: #ffffff; background-color: #2c2c2c;\">████████░░ 80%</td>\n",
    "  </tr>\n",
    "  <tr style=\"color: #ffffff; background-color: #1a1a1a;\">\n",
    "    <td style=\"padding: 12px; text-align: center; border: 1px solid #666666; color: #ffffff; background-color: #1a1a1a;\"><strong style=\"color: #ffffff;\">\"Make\"</strong></td>\n",
    "    <td style=\"padding: 12px; text-align: center; border: 1px solid #666666; color: #ffffff; background-color: #1a1a1a;\">██░░░░░░░░ 20%</td>\n",
    "    <td style=\"padding: 12px; text-align: center; border: 1px solid #666666; color: #ffffff; background-color: #1a1a1a;\">███████░░░ 70%</td>\n",
    "    <td style=\"padding: 12px; text-align: center; border: 1px solid #666666; color: #ffffff; background-color: #1a1a1a;\">██████████ 100%</td>\n",
    "  </tr>\n",
    "  <tr style=\"color: #ffffff; background-color: #2c2c2c;\">\n",
    "    <td style=\"padding: 12px; text-align: center; border: 1px solid #666666; color: #ffffff; background-color: #2c2c2c;\"><strong style=\"color: #ffffff;\">Formating</strong></td>\n",
    "    <td style=\"padding: 12px; text-align: center; border: 1px solid #666666; color: #ffffff; background-color: #2c2c2c;\">░░░░░░░░░░ 0%</td>\n",
    "    <td style=\"padding: 12px; text-align: center; border: 1px solid #666666; color: #ffffff; background-color: #2c2c2c;\">██████░░░░ 60%</td>\n",
    "    <td style=\"padding: 12px; text-align: center; border: 1px solid #666666; color: #ffffff; background-color: #2c2c2c;\">██████████ 100%</td>\n",
    "  </tr>\n",
    "  <tr style=\"color: #ffffff; background-color: #1a1a1a;\">\n",
    "    <td style=\"padding: 12px; text-align: center; border: 1px solid #666666; color: #ffffff; background-color: #1a1a1a;\"><strong style=\"color: #ffffff;\">Knowledge</strong></td>\n",
    "    <td style=\"padding: 12px; text-align: center; border: 1px solid #666666; color: #ffffff; background-color: #1a1a1a;\">██░░░░░░░░ 20%</td>\n",
    "    <td style=\"padding: 12px; text-align: center; border: 1px solid #666666; color: #ffffff; background-color: #1a1a1a;\">████████░░ 80%</td>\n",
    "    <td style=\"padding: 12px; text-align: center; border: 1px solid #666666; color: #ffffff; background-color: #1a1a1a;\">██████████ 100%</td>\n",
    "  </tr>\n",
    "</table>\n",
    "</div>\n",
    "\n",
    "<div style=\"text-align: center; margin: 20px 0; color: #ffffff;\">\n",
    "<hr style=\"width: 60%; margin: auto; border: none; border-top: 2px dashed #ccc;\">\n",
    "</div>"
   ]
  },
  {
   "cell_type": "markdown",
   "id": "bc7a39ec",
   "metadata": {},
   "source": [
    "<div style=\"background-color: #1a1a1a; padding: 30px; border-radius: 15px; margin-bottom: 30px; color: #ffffff; box-shadow: 0 4px 8px rgba(0, 0, 0, 0.15);\">\n",
    "<h2 style=\"color: #ffffff; border-bottom: 3px solid #33ff57; padding-bottom: 10px; display: inline-block; font-family: 'Arial', sans-serif;\">💭 Learning Journey Reflection</h2>\n",
    "<h3 style=\"color: #ffffff; margin-top: 25px; font-weight: 600; font-family: 'Arial', sans-serif; border-bottom: 2px solid #ff33a1;\">🔍 Key Insight</h3>\n",
    "<p style=\"color: #ffffff; font-size: 1.1em; line-height: 1.8; font-family: 'Georgia', serif;\">The most significant insight I've gained this month is the importance of peer communication and support. Collaborating with CSP peers has transformed my approach to coding and CSSE.</p>\n",
    "<p style=\"color: #ffffff; font-size: 1.1em; line-height: 1.8; font-family: 'Georgia', serif;\">This has made me more <strong style=\"color: #ffffff;\">advanced in my thought process</strong> and in my learning journey.</p>\n",
    "<h3 style=\"color: #ffffff; margin-top: 25px; font-weight: 600; font-family: 'Arial', sans-serif; border-bottom: 2px solid #33a1ff;\">🏆 Challenge Overcome</h3>\n",
    "<p style=\"color: #ffffff; font-size: 1.1em; line-height: 1.8; font-family: 'Georgia', serif;\">One challenge I overcame was <strong style=\"color: #ffffff;\">communication</strong> during limited timeframes.</p>\n",
    "<p style=\"color: #ffffff; font-size: 1.1em; line-height: 1.8; font-family: 'Georgia', serif;\">Initially, I struggled with terminal commands, but with help from Vibha M. and peers, I ensured all commands worked efficiently.</p>\n",
    "<h3 style=\"color: #ffffff; margin-top: 25px; font-weight: 600; font-family: 'Arial', sans-serif; border-bottom: 2px solid #a133ff;\">🎯 Goals for Next Month</h3>\n",
    "<ul style=\"color: #ffffff; list-style-type: none; padding-left: 10px; font-size: 1.1em; line-height: 1.8; font-family: 'Georgia', serif;\">\n",
    "<li style=\"margin: 10px 0;\">1. Complete all assigned homework.</li>\n",
    "<li style=\"margin: 10px 0;\">2. Contribute to at least one or more parts of the project.</li>\n",
    "<li style=\"margin: 10px 0;\">3. Master all commands and improve collaboration.</li>\n",
    "<li style=\"margin: 10px 0;\">4. Enhance CSSE knowledge through daily practice.</li>\n",
    "</ul>\n",
    "</div>"
   ]
  },
  {
   "cell_type": "markdown",
   "id": "7748d5b8",
   "metadata": {},
   "source": [
    "<div style=\"background-color: #1a1a1a; padding: 30px; border-radius: 15px; margin-bottom: 30px; color: #ffffff; box-shadow: 0 4px 8px rgba(0, 0, 0, 0.15);\">\n",
    "<h2 style=\"color: #ffffff; border-bottom: 3px solid #ff5733; padding-bottom: 10px; display: inline-block; font-family: 'Arial', sans-serif;\">💚 Conclusion</h2>\n",
    "<p style=\"color: #ffffff; font-size: 1.1em; line-height: 1.8; font-family: 'Georgia', serif;\">This month has been a significant period of growth for me. While I'm proud of my accomplishments, I recognize there's still much to learn. I'm committed to continuous improvement and excited about the journey ahead.</p>\n",
    "</div>"
   ]
  }
 ],
 "metadata": {
  "language_info": {
   "name": "python"
  }
 },
 "nbformat": 4,
 "nbformat_minor": 5
}
